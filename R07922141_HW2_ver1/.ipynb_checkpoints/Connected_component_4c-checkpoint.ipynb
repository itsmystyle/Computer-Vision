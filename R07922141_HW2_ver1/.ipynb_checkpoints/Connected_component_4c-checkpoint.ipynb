{
 "cells": [
  {
   "cell_type": "code",
   "execution_count": 32,
   "metadata": {},
   "outputs": [],
   "source": [
    "import cv2\n",
    "import matplotlib\n",
    "import matplotlib.pyplot as plt\n",
    "import numpy as np\n",
    "import time\n",
    "%matplotlib inline"
   ]
  },
  {
   "cell_type": "code",
   "execution_count": 33,
   "metadata": {},
   "outputs": [],
   "source": [
    "path = 'binary_lena.jpg'\n",
    "\n",
    "b_lena = cv2.imread(path)"
   ]
  },
  {
   "cell_type": "code",
   "execution_count": 34,
   "metadata": {},
   "outputs": [
    {
     "data": {
      "text/plain": [
       "<matplotlib.image.AxesImage at 0x11baaabe0>"
      ]
     },
     "execution_count": 34,
     "metadata": {},
     "output_type": "execute_result"
    },
    {
     "data": {
      "image/png": "[encoded data removed]",
      "text/plain": [
       "<Figure size 432x288 with 1 Axes>"
      ]
     },
     "metadata": {
      "needs_background": "light"
     },
     "output_type": "display_data"
    }
   ],
   "source": [
    "plt.imshow(b_lena)"
   ]
  },
  {
   "cell_type": "code",
   "execution_count": 35,
   "metadata": {},
   "outputs": [],
   "source": [
    "map_lena = np.reshape([1 if np.mean(h) > 127 else 0 for w in b_lena for h in w], (512,512,1))"
   ]
  },
  {
   "cell_type": "code",
   "execution_count": 36,
   "metadata": {},
   "outputs": [],
   "source": [
    "count = 1\n",
    "for i in range(512):\n",
    "    for j in range(512):\n",
    "        if map_lena[i][j][0] == 1:\n",
    "            map_lena[i][j][0] = count\n",
    "            count += 1"
   ]
  },
  {
   "cell_type": "code",
   "execution_count": 37,
   "metadata": {},
   "outputs": [],
   "source": [
    "def top_down(X):\n",
    "    X = X.copy()\n",
    "    for i in range(512):\n",
    "        for j in range(512):\n",
    "            if X[i][j][0] != 0:\n",
    "                c_4 = [X[i][j][0]]\n",
    "                if i > 0:\n",
    "                    c_4.append(X[i-1][j][0])\n",
    "                if j > 0:\n",
    "                    c_4.append(X[i][j-1][0])\n",
    "                if i < 511:\n",
    "                    c_4.append(X[i+1][j][0])\n",
    "                if j < 511:\n",
    "                    c_4.append(X[i][j+1][0])\n",
    "                    \n",
    "                X[i][j][0] = min_clip(c_4)\n",
    "                \n",
    "    return X\n",
    "\n",
    "def bottom_up(X):\n",
    "    X = X.copy()\n",
    "    for i in range(511, -1, -1):\n",
    "        for j in range(511, -1, -1):\n",
    "            if X[i][j][0] != 0:\n",
    "                c_4 = [X[i][j][0]]\n",
    "                if i > 0:\n",
    "                    c_4.append(X[i-1][j][0])\n",
    "                if j > 0:\n",
    "                    c_4.append(X[i][j-1][0])\n",
    "                if i < 511:\n",
    "                    c_4.append(X[i+1][j][0])\n",
    "                if j < 511:\n",
    "                    c_4.append(X[i][j+1][0])\n",
    "                    \n",
    "                X[i][j][0] = min_clip(c_4)\n",
    "                \n",
    "    return X"
   ]
  },
  {
   "cell_type": "code",
   "execution_count": 38,
   "metadata": {},
   "outputs": [],
   "source": [
    "def min_clip(X):\n",
    "    return min(i for i in X if i > 0)"
   ]
  },
  {
   "cell_type": "code",
   "execution_count": 43,
   "metadata": {},
   "outputs": [],
   "source": [
    "def iterative_cc(X):\n",
    "    start_time = time.time()\n",
    "    X = X.copy()\n",
    "    c_flag = True\n",
    "    count = 1\n",
    "    l_sum = X.sum()\n",
    "    while c_flag:\n",
    "        Y = top_down(X)\n",
    "        X = bottom_up(Y)\n",
    "        n_sum = X.sum()\n",
    "        \n",
    "        print('Iteration:', str(count), ', sum:', str(n_sum))\n",
    "        count += 1\n",
    "        \n",
    "        if l_sum - n_sum == 0:\n",
    "            c_flag = False\n",
    "        else:\n",
    "            l_sum = n_sum\n",
    "    \n",
    "    u_time = time.time() - start_time\n",
    "    print('Used time: %.2f' % (u_time))\n",
    "    \n",
    "    return X"
   ]
  },
  {
   "cell_type": "code",
   "execution_count": 44,
   "metadata": {
    "scrolled": true
   },
   "outputs": [
    {
     "name": "stdout",
     "output_type": "stream",
     "text": [
      "Iteration: 1 , sum: 2647398491\n",
      "Iteration: 2 , sum: 848721501\n",
      "Iteration: 3 , sum: 779462480\n",
      "Iteration: 4 , sum: 747724438\n",
      "Iteration: 5 , sum: 731926960\n",
      "Iteration: 6 , sum: 721415094\n",
      "Iteration: 7 , sum: 718261091\n",
      "Iteration: 8 , sum: 717108715\n",
      "Iteration: 9 , sum: 714912620\n",
      "Iteration: 10 , sum: 711707804\n",
      "Iteration: 11 , sum: 706639114\n",
      "Iteration: 12 , sum: 699499033\n",
      "Iteration: 13 , sum: 689458029\n",
      "Iteration: 14 , sum: 671148405\n",
      "Iteration: 15 , sum: 646473247\n",
      "Iteration: 16 , sum: 613021187\n",
      "Iteration: 17 , sum: 592163753\n",
      "Iteration: 18 , sum: 583435935\n",
      "Iteration: 19 , sum: 582135681\n",
      "Iteration: 20 , sum: 582135681\n",
      "Used time:{u_time:.2f}\n"
     ]
    }
   ],
   "source": [
    "X = iterative_cc(map_lena)"
   ]
  },
  {
   "cell_type": "code",
   "execution_count": null,
   "metadata": {},
   "outputs": [],
   "source": [
    "tmp = X.copy()"
   ]
  },
  {
   "cell_type": "code",
   "execution_count": null,
   "metadata": {},
   "outputs": [],
   "source": [
    "px_list = {}\n",
    "\n",
    "for i in range(512):\n",
    "    for j in range(512):\n",
    "        if tmp[i][j][0] not in px_list:\n",
    "            px_list[tmp[i][j][0]] = 1\n",
    "        else:\n",
    "            px_list[tmp[i][j][0]] += 1"
   ]
  },
  {
   "cell_type": "code",
   "execution_count": null,
   "metadata": {},
   "outputs": [],
   "source": [
    "px_dic = {}\n",
    "\n",
    "for key, value in px_list.items():\n",
    "    if value > 500 and key != 0:\n",
    "        px_dic[key] = value"
   ]
  },
  {
   "cell_type": "code",
   "execution_count": null,
   "metadata": {},
   "outputs": [],
   "source": [
    "color = [[255, 0, 0], [0, 255, 0], [0, 0, 255], \\\n",
    "         [255, 255, 0], [0, 255, 255], [255, 0, 255], \\\n",
    "        [128, 0, 128]]"
   ]
  },
  {
   "cell_type": "code",
   "execution_count": null,
   "metadata": {},
   "outputs": [],
   "source": [
    "## Coloring connected component with different color\n",
    "\n",
    "# c_lena = b_lena.copy()\n",
    "# cc = 0\n",
    "# for key, value in px_dic.items():\n",
    "#     for i in range(512):\n",
    "#         for j in range(512):\n",
    "#             if tmp[i][j][0] == key:\n",
    "#                 c_lena[i][j] = color[cc]\n",
    "#     cc += 1"
   ]
  },
  {
   "cell_type": "code",
   "execution_count": 61,
   "metadata": {},
   "outputs": [],
   "source": [
    "bb_dic = {'row':{}, 'col':{}}\n",
    "\n",
    "for key, value in px_dic.items():\n",
    "    for i in range(512):\n",
    "        for j in range(512):\n",
    "            # Row\n",
    "            if tmp[i][j][0] == key:\n",
    "                if key not in bb_dic['row']:\n",
    "                    bb_dic['row'][key] = [0, i]\n",
    "                elif i not in bb_dic['row'][key]:\n",
    "                    bb_dic['row'][key].append(i)\n",
    "                    min_val = min(bb_dic['row'][key])\n",
    "                    max_val = max(bb_dic['row'][key])\n",
    "                    bb_dic['row'][key] = [min_val, max_val]\n",
    "            if tmp[i][j][0] == key:\n",
    "                if key not in bb_dic['col']:\n",
    "                    bb_dic['col'][key] = [j]\n",
    "                elif j not in bb_dic['col'][key]:\n",
    "                    bb_dic['col'][key].append(j)\n",
    "                    min_val = min(bb_dic['col'][key])\n",
    "                    max_val = max(bb_dic['col'][key])\n",
    "                    bb_dic['col'][key] = [min_val, max_val]"
   ]
  },
  {
   "cell_type": "code",
   "execution_count": 80,
   "metadata": {},
   "outputs": [],
   "source": [
    "def draw_centroid(X, Y, image, color):\n",
    "    to_return = image.copy()\n",
    "    center_x = X[0] + X[1]//2\n",
    "    center_y = Y[0] + Y[1]//2\n",
    "    to_return[center_x][center_y] = color\n",
    "    for i in range(20,-1,-1):\n",
    "        for j in range(3): \n",
    "            to_return[center_x-i][center_y-j] = color\n",
    "            to_return[center_x-i][center_y] = color\n",
    "            to_return[center_x-i][center_y+j] = color\n",
    "\n",
    "            to_return[center_x+i][center_y-j] = color\n",
    "            to_return[center_x+i][center_y] = color\n",
    "            to_return[center_x+i][center_y+j] = color\n",
    "\n",
    "            to_return[center_x-j][center_y-i] = color\n",
    "            to_return[center_x][center_y-i] = color\n",
    "            to_return[center_x+j][center_y-i] = color\n",
    "\n",
    "            to_return[center_x-j][center_y+i] = color\n",
    "            to_return[center_x][center_y+i] = color\n",
    "            to_return[center_x+j][center_y+i] = color\n",
    "    \n",
    "    return to_return"
   ]
  },
  {
   "cell_type": "code",
   "execution_count": 113,
   "metadata": {},
   "outputs": [],
   "source": [
    "def draw_bounding_box(X, Y, image, color):\n",
    "    to_return = image.copy()\n",
    "    bouding_size = 3\n",
    "    for i in range(X[0], X[1]+1):\n",
    "        for j in range(Y[0], Y[1]+1):\n",
    "            if (i >= X[0] and i <= X[0]+bouding_size) or (i >= X[1]-bouding_size and i <= X[1]):\n",
    "                to_return[i][j] = color\n",
    "            if (j >= X[0] and j <= Y[0]+bouding_size) or (j >= Y[1]-bouding_size and j <= Y[1]):\n",
    "                to_return[i][j] = color\n",
    "    \n",
    "    return to_return"
   ]
  },
  {
   "cell_type": "code",
   "execution_count": null,
   "metadata": {},
   "outputs": [],
   "source": []
  }
 ],
 "metadata": {
  "kernelspec": {
   "display_name": "Python 3",
   "language": "python",
   "name": "python3"
  },
  "language_info": {
   "codemirror_mode": {
    "name": "ipython",
    "version": 3
   },
   "file_extension": ".py",
   "mimetype": "text/x-python",
   "name": "python",
   "nbconvert_exporter": "python",
   "pygments_lexer": "ipython3",
   "version": "3.7.0"
  }
 },
 "nbformat": 4,
 "nbformat_minor": 2
}
