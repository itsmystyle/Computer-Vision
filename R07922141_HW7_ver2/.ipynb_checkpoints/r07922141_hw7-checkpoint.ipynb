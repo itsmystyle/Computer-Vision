{
 "cells": [
  {
   "cell_type": "code",
   "execution_count": 1,
   "metadata": {},
   "outputs": [],
   "source": [
    "import cv2\n",
    "import matplotlib.pyplot as plt\n",
    "import numpy as np\n",
    "import copy\n",
    "\n",
    "lena_img = cv2.imread('lena.bmp', 0)\n",
    "\n",
    "# Downsampling and binarize\n",
    "downsampled_lena = [[0 for j in range(64)] for i in range(64)]\n",
    "\n",
    "for i in range(64):\n",
    "    for j in range(64):\n",
    "        pixel = lena_img[i*8][j*8]\n",
    "        if pixel < 128:\n",
    "            downsampled_lena[i][j] = 0\n",
    "        else:\n",
    "            downsampled_lena[i][j] = 255\n",
    "            \n",
    "cv2.imwrite('downsampled_lena.png', downsampled_lena)"
   ]
  },
  {
   "cell_type": "code",
   "execution_count": 2,
   "metadata": {},
   "outputs": [],
   "source": [
    "def getPixel(image, x, y):\n",
    "    if (x >= 0 and x < len(image)) and (y >= 0 and y < len(image)):\n",
    "        return image[x][y]\n",
    "    else:\n",
    "        return 0\n",
    "\n",
    "def getNeighbors(image, x, y, cc=8):\n",
    "    # x7 x2 x6\n",
    "    # x3 x0 x1\n",
    "    # x8 x4 x5\n",
    "    c = image[x][y]\n",
    "    x7 = getPixel(image, x-1, y-1)\n",
    "    x2 = getPixel(image, x, y-1)\n",
    "    x6 = getPixel(image, x+1, y-1)\n",
    "    \n",
    "    x3 = getPixel(image, x-1, y)\n",
    "    x0 = getPixel(image, x, y)\n",
    "    x1 = getPixel(image, x+1, y)\n",
    "\n",
    "    x8 = getPixel(image, x-1, y+1)\n",
    "    x4 = getPixel(image, x, y+1)\n",
    "    x5 = getPixel(image, x+1, y+1)\n",
    "    \n",
    "    if cc == 8:\n",
    "        return [x0, x1, x2, x3, x4, x5, x6, x7, x8]\n",
    "    else:\n",
    "        return [x0, x1, x2, x3, x4]"
   ]
  },
  {
   "cell_type": "code",
   "execution_count": 3,
   "metadata": {},
   "outputs": [],
   "source": [
    "def getInteriorBorder(image, cc=4):\n",
    "    def _h(c, d):\n",
    "        return c if c == d else 'b'\n",
    "    \n",
    "    def _f(c):\n",
    "        return 'b' if c == 'b' else 'i'\n",
    "    \n",
    "    toReturn = copy.deepcopy(image)\n",
    "    \n",
    "    for i in range(64):\n",
    "        for j in range(64):\n",
    "            neighbors = getNeighbors(image, i, j, 8)\n",
    "            a0 = neighbors[0]\n",
    "            if cc == 4:\n",
    "                for k in range(4):\n",
    "                    a0 = _h(a0, neighbors[k+1])\n",
    "            else:\n",
    "                for k in range(8):\n",
    "                    a0 = _h(a0, neighbors[k+1])\n",
    "            toReturn[i][j] = _f(a0)\n",
    "    \n",
    "    return toReturn"
   ]
  },
  {
   "cell_type": "code",
   "execution_count": 4,
   "metadata": {},
   "outputs": [],
   "source": [
    "def getPairRelationship(image, cc=4):\n",
    "    def _h(a, m='i'):\n",
    "        return 1 if a == m else 0\n",
    "    \n",
    "    toReturn = copy.deepcopy(image)\n",
    "    \n",
    "    for i in range(64):\n",
    "        for j in range(64):\n",
    "            neighbors = getNeighbors(image, i, j, 8)\n",
    "            delta = 1\n",
    "            x0 = neighbors[0]\n",
    "            c = 0\n",
    "            \n",
    "            if cc == 4:\n",
    "                for k in range(1, 5):\n",
    "                    c += _h(neighbors[k])\n",
    "            else:\n",
    "                for k in range(1, 9):\n",
    "                    c += _h(neighbors[k])\n",
    "            \n",
    "            if c < delta or x0 != 'b':\n",
    "                toReturn[i][j] = 'q'\n",
    "            elif c >= delta and x0 == 'b':\n",
    "                toReturn[i][j] = 'p'\n",
    "    \n",
    "    return toReturn"
   ]
  },
  {
   "cell_type": "code",
   "execution_count": 5,
   "metadata": {},
   "outputs": [],
   "source": [
    "def h(b, c, d, e, cc=4):\n",
    "    if cc == 4:\n",
    "        return 1 if b == c and (b != d or b != e) else 0\n",
    "    else:\n",
    "        return 1 if b != c and (b == d or b == e) else 0\n",
    "\n",
    "def f(a1, a2, a3, a4, x0):\n",
    "    return 'g' if (a1 + a2 + a3 + a4) == 1 else x0"
   ]
  },
  {
   "cell_type": "code",
   "execution_count": 6,
   "metadata": {},
   "outputs": [
    {
     "data": {
      "text/plain": [
       "<matplotlib.image.AxesImage at 0x11e4ff2e8>"
      ]
     },
     "execution_count": 6,
     "metadata": {},
     "output_type": "execute_result"
    },
    {
     "data": {
      "image/png": "[encoded data removed]",
      "text/plain": [
       "<Figure size 432x288 with 1 Axes>"
      ]
     },
     "metadata": {
      "needs_background": "light"
     },
     "output_type": "display_data"
    }
   ],
   "source": [
    "thinned = copy.deepcopy(downsampled_lena)\n",
    "last_thinned = copy.deepcopy(thinned)\n",
    "cc = 4\n",
    "count = 0\n",
    "\n",
    "while True:\n",
    "    notChange = True\n",
    "    \n",
    "    cv2.imwrite('lena_thinning_'+str(count)+'.png', np.array(thinned))\n",
    "    count += 1\n",
    "    \n",
    "    borderImage = getInteriorBorder(thinned, 8)\n",
    "    pairImage = getPairRelationship(borderImage, 8)\n",
    "    \n",
    "    for i in range(len(thinned)):\n",
    "        for j in range(len(thinned[0])):\n",
    "            neighbors = getNeighbors(thinned, i, j, 8)\n",
    "            \n",
    "            a1 = h(neighbors[0], neighbors[1], neighbors[6], neighbors[2], cc)\n",
    "            a2 = h(neighbors[0], neighbors[2], neighbors[7], neighbors[3], cc)\n",
    "            a3 = h(neighbors[0], neighbors[3], neighbors[8], neighbors[4], cc)\n",
    "            a4 = h(neighbors[0], neighbors[4], neighbors[5], neighbors[1], cc)\n",
    "            if f(a1, a2, a3, a4, thinned[i][j]) == 'g' and pairImage[i][j] == 'p' and thinned[i][j] != 0:\n",
    "                thinned[i][j] = 0\n",
    "                notChange = False\n",
    "    \n",
    "    if notChange:\n",
    "        break\n",
    "        \n",
    "cv2.imwrite('thinned_lena.png', np.array(thinned))"
   ]
  },
  {
   "cell_type": "code",
   "execution_count": null,
   "metadata": {},
   "outputs": [],
   "source": []
  }
 ],
 "metadata": {
  "kernelspec": {
   "display_name": "Python 3",
   "language": "python",
   "name": "python3"
  },
  "language_info": {
   "codemirror_mode": {
    "name": "ipython",
    "version": 3
   },
   "file_extension": ".py",
   "mimetype": "text/x-python",
   "name": "python",
   "nbconvert_exporter": "python",
   "pygments_lexer": "ipython3",
   "version": "3.7.0"
  }
 },
 "nbformat": 4,
 "nbformat_minor": 2
}
