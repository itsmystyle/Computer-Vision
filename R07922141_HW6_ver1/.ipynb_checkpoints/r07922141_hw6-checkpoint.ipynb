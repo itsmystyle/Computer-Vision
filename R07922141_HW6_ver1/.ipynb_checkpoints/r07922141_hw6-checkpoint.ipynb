{
 "cells": [
  {
   "cell_type": "code",
   "execution_count": 65,
   "metadata": {},
   "outputs": [],
   "source": [
    "import cv2\n",
    "import matplotlib.pyplot as plt\n",
    "import numpy as np\n",
    "%matplotlib inline"
   ]
  },
  {
   "cell_type": "code",
   "execution_count": 66,
   "metadata": {},
   "outputs": [],
   "source": [
    "lena_img = cv2.imread('lena.bmp', 0)"
   ]
  },
  {
   "cell_type": "code",
   "execution_count": 67,
   "metadata": {},
   "outputs": [],
   "source": [
    "# Downsampling and binarize\n",
    "downsampled_lena = [[0 for j in range(64)] for i in range(64)]\n",
    "\n",
    "for i in range(64):\n",
    "    for j in range(64):\n",
    "        pixel = lena_img[i*8][j*8]\n",
    "        if pixel < 128:\n",
    "            downsampled_lena[i][j] = 0\n",
    "        else:\n",
    "            downsampled_lena[i][j] = 255"
   ]
  },
  {
   "cell_type": "code",
   "execution_count": 69,
   "metadata": {},
   "outputs": [],
   "source": [
    "# cv2.imwrite('downsmapled_binarized_lena.png', np.array(downsampled_lena))"
   ]
  },
  {
   "cell_type": "code",
   "execution_count": 70,
   "metadata": {},
   "outputs": [],
   "source": [
    "def getPixel(x, y):\n",
    "    if (x < 0 or x >= 64) or (y < 0 or y >= 64):\n",
    "        return 0\n",
    "    return downsampled_lena[x][y]"
   ]
  },
  {
   "cell_type": "code",
   "execution_count": 71,
   "metadata": {},
   "outputs": [],
   "source": [
    "def getNeighbors(x, y):\n",
    "    # x7 x2 x6\n",
    "    # x3 x0 x1\n",
    "    # x8 x4 x5\n",
    "    return [getPixel(x, y), getPixel(x+1, y), getPixel(x, y-1), getPixel(x-1, y), getPixel(x, y+1), \\\n",
    "            getPixel(x+1, y+1), getPixel(x+1, y-1), getPixel(x-1, y-1), getPixel(x-1, y+1)]"
   ]
  },
  {
   "cell_type": "code",
   "execution_count": 72,
   "metadata": {},
   "outputs": [],
   "source": [
    "def h(b, c, d, e):\n",
    "    if b == c and (d!=b or e!=b):\n",
    "        return 'q'\n",
    "    elif b == c and (d==b and e==b):\n",
    "        return 'r'\n",
    "    elif b != c:\n",
    "        return 's'"
   ]
  },
  {
   "cell_type": "code",
   "execution_count": 73,
   "metadata": {},
   "outputs": [],
   "source": [
    "def f(lst):\n",
    "    if(lst.count('r') == 4): # all neighbors are equal to r\n",
    "        return 5\n",
    "    else:\n",
    "        return lst.count('q')"
   ]
  },
  {
   "cell_type": "code",
   "execution_count": 74,
   "metadata": {},
   "outputs": [],
   "source": [
    "def Yokoi(lst):\n",
    "    h_lst = [h(lst[0], lst[1], lst[6], lst[2]), \\\n",
    "             h(lst[0], lst[2], lst[7], lst[3]), \\\n",
    "             h(lst[0], lst[3], lst[8], lst[4]), \\\n",
    "             h(lst[0], lst[4], lst[5], lst[1])]\n",
    "    return f(h_lst)"
   ]
  },
  {
   "cell_type": "code",
   "execution_count": 75,
   "metadata": {},
   "outputs": [],
   "source": [
    "yokoi_lena = [[' ' for j in range(64)] for i in range(64)]"
   ]
  },
  {
   "cell_type": "code",
   "execution_count": 76,
   "metadata": {},
   "outputs": [],
   "source": [
    "for i in range(64):\n",
    "    for j in range(64):\n",
    "        if downsampled_lena[i][j] != 0:\n",
    "            yokoi_lena[i][j] = Yokoi(getNeighbors(i, j))"
   ]
  },
  {
   "cell_type": "code",
   "execution_count": null,
   "metadata": {},
   "outputs": [],
   "source": [
    "with open('yokoi_lena.txt', 'w') as fout:\n",
    "    for i in range(64):\n",
    "        for k in range(64):\n",
    "            fout.write(str(yokoi_lena[i][j]))"
   ]
  }
 ],
 "metadata": {
  "kernelspec": {
   "display_name": "Python 3",
   "language": "python",
   "name": "python3"
  },
  "language_info": {
   "codemirror_mode": {
    "name": "ipython",
    "version": 3
   },
   "file_extension": ".py",
   "mimetype": "text/x-python",
   "name": "python",
   "nbconvert_exporter": "python",
   "pygments_lexer": "ipython3",
   "version": "3.7.0"
  }
 },
 "nbformat": 4,
 "nbformat_minor": 2
}
